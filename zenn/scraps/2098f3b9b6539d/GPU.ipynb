{
 "cells": [
  {
   "cell_type": "code",
   "execution_count": 1,
   "id": "9b0d066d-daab-4eac-b657-5e6d77b76423",
   "metadata": {},
   "outputs": [
    {
     "name": "stderr",
     "output_type": "stream",
     "text": [
      "Platform 'METAL' is experimental and not all JAX functionality may be correctly supported!\n"
     ]
    },
    {
     "name": "stdout",
     "output_type": "stream",
     "text": [
      "Metal device set to: Apple M2\n",
      "[METAL(id=0)]\n"
     ]
    },
    {
     "name": "stderr",
     "output_type": "stream",
     "text": [
      "WARNING: All log messages before absl::InitializeLog() is called are written to STDERR\n",
      "W0000 00:00:1717324586.743171 2274742 mps_client.cc:510] WARNING: JAX Apple GPU support is experimental and not all JAX functionality is correctly supported!\n",
      "I0000 00:00:1717324586.752298 2274742 service.cc:145] XLA service 0x600002b49200 initialized for platform METAL (this does not guarantee that XLA will be used). Devices:\n",
      "I0000 00:00:1717324586.752309 2274742 service.cc:153]   StreamExecutor device (0): Metal, <undefined>\n",
      "I0000 00:00:1717324586.753366 2274742 mps_client.cc:406] Using Simple allocator.\n",
      "I0000 00:00:1717324586.753375 2274742 mps_client.cc:384] XLA backend will use up to 11452858368 bytes on device 0 for SimpleAllocator.\n"
     ]
    }
   ],
   "source": [
    "import jax\n",
    "import jax.numpy as jnp\n",
    "\n",
    "jax.config.update(\"jax_platform_name\", \"METAL\")\n",
    "print(jax.devices())"
   ]
  },
  {
   "cell_type": "code",
   "execution_count": 2,
   "id": "feb0ca68-f33c-4fed-85f4-2d81704ab313",
   "metadata": {},
   "outputs": [],
   "source": [
    "@jax.jit\n",
    "def f(x):\n",
    "    return x.dot(x)"
   ]
  },
  {
   "cell_type": "code",
   "execution_count": 3,
   "id": "1978ef5a-4104-4767-93b1-653094b493ef",
   "metadata": {},
   "outputs": [],
   "source": [
    "row = 1000\n",
    "X = jnp.arange(row**2, dtype=jnp.float32).reshape(row, row)"
   ]
  },
  {
   "cell_type": "code",
   "execution_count": 4,
   "id": "10d5bb0b-458b-43ab-b42d-9065c2b4eb8f",
   "metadata": {},
   "outputs": [
    {
     "name": "stdout",
     "output_type": "stream",
     "text": [
      "903 μs ± 1.24 μs per loop (mean ± std. dev. of 10 runs, 1,000 loops each)\n"
     ]
    }
   ],
   "source": [
    "%%timeit -r 10 -n 1000\n",
    "f(X)"
   ]
  }
 ],
 "metadata": {
  "kernelspec": {
   "display_name": "Python 3 (ipykernel)",
   "language": "python",
   "name": "python3"
  },
  "language_info": {
   "codemirror_mode": {
    "name": "ipython",
    "version": 3
   },
   "file_extension": ".py",
   "mimetype": "text/x-python",
   "name": "python",
   "nbconvert_exporter": "python",
   "pygments_lexer": "ipython3",
   "version": "3.12.3"
  }
 },
 "nbformat": 4,
 "nbformat_minor": 5
}
